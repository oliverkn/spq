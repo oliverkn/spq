{
 "cells": [
  {
   "cell_type": "code",
   "execution_count": 8,
   "outputs": [],
   "source": [
    "import numpy as np\n",
    "from numpy import pi, sqrt, exp, sin, cos\n",
    "import scipy.optimize\n",
    "from qutip import *\n",
    "import matplotlib.pyplot as plt"
   ],
   "metadata": {
    "collapsed": false,
    "pycharm": {
     "name": "#%%\n",
     "is_executing": false
    }
   }
  },
  {
   "cell_type": "code",
   "execution_count": 9,
   "outputs": [],
   "source": [
    "D = np.array([1, -1, 7, -7]) * pi / 12\n",
    "D = np.diag(D)\n",
    "D = Qobj(D, dims=[[2, 2], [2, 2]])\n",
    "\n",
    "V = [[sqrt((2 + sqrt(3)) / (6 + 2 * sqrt(3))) * exp(1j * pi / 4),\n",
    "      sqrt((2 + sqrt(3)) / (6 + 2 * sqrt(3))) * exp(-1j * pi / 4),\n",
    "      sqrt((2 - sqrt(3)) / (6 - 2 * sqrt(3))) * exp(1j * 3 * pi / 4),\n",
    "      sqrt((2 - sqrt(3)) / (6 - 2 * sqrt(3))) * exp(-1j * 3 * pi / 4)],\n",
    "     [sqrt(1 / (6 + 2 * sqrt(3))) * exp(1j * pi / 2),\n",
    "      sqrt(1 / (6 + 2 * sqrt(3))) * exp(-1j * pi / 2),\n",
    "      sqrt(1 / (6 - 2 * sqrt(3))) * exp(-1j * pi / 2),\n",
    "      sqrt(1 / (6 - 2 * sqrt(3))) * exp(1j * pi / 2)],\n",
    "     [sqrt((2 + sqrt(3)) / (6 + 2 * sqrt(3))) * exp(1j * 3 * pi / 4),\n",
    "      sqrt((2 + sqrt(3)) / (6 + 2 * sqrt(3))) * exp(-1j * 3 * pi / 4),\n",
    "      sqrt((2 - sqrt(3)) / (6 - 2 * sqrt(3))) * exp(1j * pi / 4),\n",
    "      sqrt((2 - sqrt(3)) / (6 - 2 * sqrt(3))) * exp(-1j * pi / 4)],\n",
    "     [sqrt(1 / (6 + 2 * sqrt(3))), sqrt(1 / (6 + 2 * sqrt(3))),\n",
    "      sqrt(1 / (6 - 2 * sqrt(3))), sqrt(1 / (6 - 2 * sqrt(3)))]]\n",
    "V = Qobj(V, dims=[[2, 2], [2, 2]])\n",
    "\n",
    "\n",
    "def U(t):\n",
    "    return V * (1j * D * t).expm() * V.dag()\n"
   ],
   "metadata": {
    "collapsed": false,
    "pycharm": {
     "name": "#%% Define matrices\n",
     "is_executing": false
    }
   }
  },
  {
   "cell_type": "code",
   "execution_count": 10,
   "outputs": [],
   "source": [
    "def mutual_information(rho):\n",
    "    return entropy_mutual(rho, 0, 1, base=2)\n",
    "\n",
    "\n",
    "def U_C(phi1, phi2, theta):\n",
    "    X = [[exp(1j * phi1) * cos(theta), exp(1j * phi2) * sin(theta)],\n",
    "         [-exp(-1j * phi2) * sin(theta), exp(-1j * phi1) * cos(theta)]]\n",
    "    return Qobj(X)\n",
    "\n",
    "\n",
    "def mutual_inf_c(phi1, phi2, theta, t):\n",
    "    psi_0 = tensor(basis(2, 0), basis(2, 0))  # |0>x|0>\n",
    "    psi = U(t) * tensor(U_C(phi1, phi2, theta), identity(2)) * U(t).dag() * psi_0\n",
    "    rho = ket2dm(psi)\n",
    "    return entropy_mutual(rho, 0, 1, base=2)\n",
    "\n",
    "\n",
    "def max_mutual_c(t):\n",
    "    f = lambda x, t: -mutual_inf_c(x[0], x[1], x[2], t)\n",
    "    return -scipy.optimize.minimize(f, (1, 1, 1), args=t).fun\n"
   ],
   "metadata": {
    "collapsed": false,
    "pycharm": {
     "name": "#%% Max mutual information\n",
     "is_executing": false
    }
   }
  },
  {
   "cell_type": "code",
   "execution_count": 11,
   "outputs": [
    {
     "data": {
      "text/plain": "[<matplotlib.lines.Line2D at 0x7f6787c6dd50>]"
     },
     "metadata": {},
     "output_type": "execute_result",
     "execution_count": 11
    },
    {
     "data": {
      "text/plain": "<Figure size 432x288 with 1 Axes>",
      "image/png": "[encoded data removed]"
     },
     "metadata": {
      "needs_background": "light"
     },
     "output_type": "display_data"
    }
   ],
   "source": [
    "t_arr = np.linspace(0, 1, 100)\n",
    "I_max = np.zeros_like(t_arr)\n",
    "for i, t in enumerate(t_arr):\n",
    "    I_max[i] = max_mutual_c(t)\n",
    "\n",
    "# print(I_max)\n",
    "\n",
    "plt.plot(t_arr, I_max)\n"
   ],
   "metadata": {
    "collapsed": false,
    "pycharm": {
     "name": "#%% Plot\n",
     "is_executing": false
    }
   }
  }
 ],
 "metadata": {
  "kernelspec": {
   "display_name": "Python 3",
   "language": "python",
   "name": "python3"
  },
  "language_info": {
   "codemirror_mode": {
    "name": "ipython",
    "version": 2
   },
   "file_extension": ".py",
   "mimetype": "text/x-python",
   "name": "python",
   "nbconvert_exporter": "python",
   "pygments_lexer": "ipython2",
   "version": "2.7.6"
  },
  "pycharm": {
   "stem_cell": {
    "cell_type": "raw",
    "source": [],
    "metadata": {
     "collapsed": false
    }
   }
  }
 },
 "nbformat": 4,
 "nbformat_minor": 0
}