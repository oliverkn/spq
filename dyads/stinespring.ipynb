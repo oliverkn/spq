{
 "cells": [
  {
   "cell_type": "code",
   "execution_count": 1,
   "outputs": [
    {
     "name": "stdout",
     "text": [
      "[[1.+0.j 2.+3.j]\n",
      " [2.-3.j 4.+0.j]]\n",
      "Quantum object: dims = [[2], [2]], shape = (2, 2), type = oper, isherm = True\n",
      "Qobj data =\n",
      "[[1. 0.]\n",
      " [0. 1.]]\n",
      "Quantum object: dims = [[4], [4]], shape = (4, 4), type = oper, isherm = True\n",
      "Qobj data =\n",
      "[[ 0.2786762  -0.16546241  0.05649008 -0.09473841]\n",
      " [-0.16546241  0.30368358 -0.05197053  0.00086599]\n",
      " [ 0.05649008 -0.05197053  0.11786216 -0.03054097]\n",
      " [-0.09473841  0.00086599 -0.03054097  0.29977806]]\n",
      "0.9999999999999998 True\n"
     ],
     "output_type": "stream"
    },
    {
     "name": "stderr",
     "text": [
      "/home/oliverkn/cloud/eth/2020_FS/spq/pycharm/core/dm_parametrization.py:51: ComplexWarning: Casting complex values to real discards the imaginary part\n",
      "  V[0:j - 1, 0:j - 1] = W\n",
      "/home/oliverkn/cloud/eth/2020_FS/spq/pycharm/core/dm_parametrization.py:52: ComplexWarning: Casting complex values to real discards the imaginary part\n",
      "  V[0:j - 1, j - 1] = s * z_u.trans()\n",
      "/home/oliverkn/cloud/eth/2020_FS/spq/pycharm/core/dm_parametrization.py:53: ComplexWarning: Casting complex values to real discards the imaginary part\n",
      "  V[j - 1, 0:j - 1] = -s * z_u.conj().trans()\n"
     ],
     "output_type": "stream"
    }
   ],
   "source": [
    "import numpy as np\n",
    "from numpy import pi, sqrt, exp, sin, cos\n",
    "import scipy.optimize\n",
    "from qutip import *\n",
    "import matplotlib.pyplot as plt\n",
    "from core.dm_parametrization import *"
   ],
   "metadata": {
    "collapsed": false,
    "pycharm": {
     "name": "#%%\n",
     "is_executing": false
    }
   }
  },
  {
   "cell_type": "code",
   "execution_count": 2,
   "outputs": [],
   "source": [
    "v = basis(4,0)\n",
    "\n",
    "\n",
    "# A = basis(2,0)*basis(2,0).dag()\n",
    "# \n",
    "# A_v = operator_to_vector(A)\n",
    "# \n",
    "# print(A_v)"
   ],
   "metadata": {
    "collapsed": false,
    "pycharm": {
     "name": "#%%\n",
     "is_executing": false
    }
   }
  },
  {
   "cell_type": "code",
   "execution_count": 3,
   "outputs": [
    {
     "name": "stdout",
     "text": [
      "Quantum object: dims = [[2], [2]], shape = (2, 2), type = oper, isherm = True\n",
      "Qobj data =\n",
      "[[ 0.57038069+0.j         -0.06947588-0.01469677j]\n",
      " [-0.06947588+0.01469677j  0.42961931+0.j        ]]\n",
      "Quantum object: dims = [[2], [2]], shape = (2, 2), type = oper, isherm = True\n",
      "Qobj data =\n",
      "[[ 0.58857678+0.j        -0.06695047+0.0568882j]\n",
      " [-0.06695047-0.0568882j  0.41142322+0.j       ]]\n",
      "False\n"
     ],
     "output_type": "stream"
    },
    {
     "name": "stderr",
     "text": [
      "/home/oliverkn/cloud/eth/2020_FS/spq/pycharm/venv/lib/python3.7/site-packages/ipykernel_launcher.py:28: ComplexWarning: Casting complex values to real discards the imaginary part\n"
     ],
     "output_type": "stream"
    }
   ],
   "source": [
    "U_AE = get_unitary(np.random.uniform(-100, 100, size=16), n=4)\n",
    "\n",
    "U_AE = Qobj(U_AE, dims=[[2,2],[2,2]])\n",
    "\n",
    "rho_A = 1/2 * identity(2)\n",
    "rho_E0 = get_dm(z_arr=[[],[20],[3,4]], eig_vals=(0.2,0.8), n=2)\n",
    "\n",
    "rho_AE0 = tensor(rho_A, rho_E0)\n",
    "rho_AE0 = U_AE * rho_AE0 * U_AE.dag()\n",
    "\n",
    "rho_A = ptrace(rho_AE0, 0)\n",
    "\n",
    "rho_A\n",
    "\n",
    "def op_basis(n, k):\n",
    "    b = np.zeros((n,n), dtype=complex)\n",
    "    b[k%n,k//n]=1\n",
    "    return qu.Qobj(b)\n",
    "\n",
    "def function_to_superop(func, n):\n",
    "    # n*n is dimension of input\n",
    "    S = np.zeros((n**2,n**2))\n",
    "    \n",
    "    for k in range(0, n**2):\n",
    "        E_k = op_basis(n,k)\n",
    "        E_k = func(E_k)\n",
    "        E_k = np.array(E_k).reshape(-1)\n",
    "        S[:,k] = E_k\n",
    "    \n",
    "    return S\n",
    "\n",
    "def stinespring_dilat(rho_in):\n",
    "    rho_AE0 = tensor(rho_in, rho_E0)\n",
    "    rho_AE0 = U_AE * rho_AE0 * U_AE.dag()\n",
    "\n",
    "    return ptrace(rho_AE0, 0)\n",
    "\n",
    "S = function_to_superop(stinespring_dilat, n=2)\n",
    "\n",
    "S = Qobj(S, type='super')\n",
    "# print(S)\n",
    "\n",
    "print(vector_to_operator(S * operator_to_vector(rho_A)))\n",
    "print(stinespring_dilat(rho_A))\n",
    "\n",
    "print(S.iscptp)"
   ],
   "metadata": {
    "collapsed": false,
    "pycharm": {
     "name": "#%% build stinespring\n",
     "is_executing": false
    }
   }
  },
  {
   "cell_type": "code",
   "execution_count": 4,
   "outputs": [
    {
     "name": "stdout",
     "text": [
      "[0.23019782 0.23019782 0.26980218 0.26980218]\n"
     ],
     "output_type": "stream"
    },
    {
     "name": "stderr",
     "text": [
      "/home/oliverkn/cloud/eth/2020_FS/spq/pycharm/core/dm_parametrization.py:51: ComplexWarning: Casting complex values to real discards the imaginary part\n",
      "  V[0:j - 1, 0:j - 1] = W\n",
      "/home/oliverkn/cloud/eth/2020_FS/spq/pycharm/core/dm_parametrization.py:52: ComplexWarning: Casting complex values to real discards the imaginary part\n",
      "  V[0:j - 1, j - 1] = s * z_u.trans()\n",
      "/home/oliverkn/cloud/eth/2020_FS/spq/pycharm/core/dm_parametrization.py:53: ComplexWarning: Casting complex values to real discards the imaginary part\n",
      "  V[j - 1, 0:j - 1] = -s * z_u.conj().trans()\n"
     ],
     "output_type": "stream"
    }
   ],
   "source": [
    "U_DE = get_unitary(np.random.uniform(-100, 100, size=16), n=4)\n",
    "U_DE = Qobj(U_DE, dims=[[2,2],[2,2]])\n",
    "\n",
    "U_CDE = tensor(identity(2), U_DE)\n",
    "# print(U_CDE*U_CDE.dag())\n",
    "\n",
    "rho_cd = 1/4 * identity([2,2])\n",
    "rho_E0 = get_dm(z_arr=[[],[20],[3,4]], eig_vals=(0.2,0.8), n=2)\n",
    "rho_cde = tensor(rho_cd, rho_E0)\n",
    "# print(rho_cde.eigenenergies())\n",
    "\n",
    "rho_cde = U_CDE * rho_cde * U_CDE.dag()\n",
    "\n",
    "rho_cd = rho_cde.ptrace([0,1])\n",
    "\n",
    "print(rho_cd.eigenenergies())"
   ],
   "metadata": {
    "collapsed": false,
    "pycharm": {
     "name": "#%%\n",
     "is_executing": false
    }
   }
  },
  {
   "cell_type": "code",
   "execution_count": 8,
   "outputs": [],
   "source": [],
   "metadata": {
    "collapsed": false,
    "pycharm": {
     "name": "#%%\n",
     "is_executing": false
    }
   }
  },
  {
   "cell_type": "code",
   "execution_count": 9,
   "outputs": [],
   "source": [
    "D = np.array([1, -1, 7, -7]) * pi / 12\n",
    "D = np.diag(D)\n",
    "D = Qobj(D, dims=[[2, 2], [2, 2]])\n",
    "\n",
    "V = [[sqrt((2 + sqrt(3)) / (6 + 2 * sqrt(3))) * exp(1j * pi / 4),\n",
    "      sqrt((2 + sqrt(3)) / (6 + 2 * sqrt(3))) * exp(-1j * pi / 4),\n",
    "      sqrt((2 - sqrt(3)) / (6 - 2 * sqrt(3))) * exp(1j * 3 * pi / 4),\n",
    "      sqrt((2 - sqrt(3)) / (6 - 2 * sqrt(3))) * exp(-1j * 3 * pi / 4)],\n",
    "     [sqrt(1 / (6 + 2 * sqrt(3))) * exp(1j * pi / 2),\n",
    "      sqrt(1 / (6 + 2 * sqrt(3))) * exp(-1j * pi / 2),\n",
    "      sqrt(1 / (6 - 2 * sqrt(3))) * exp(-1j * pi / 2),\n",
    "      sqrt(1 / (6 - 2 * sqrt(3))) * exp(1j * pi / 2)],\n",
    "     [sqrt((2 + sqrt(3)) / (6 + 2 * sqrt(3))) * exp(1j * 3 * pi / 4),\n",
    "      sqrt((2 + sqrt(3)) / (6 + 2 * sqrt(3))) * exp(-1j * 3 * pi / 4),\n",
    "      sqrt((2 - sqrt(3)) / (6 - 2 * sqrt(3))) * exp(1j * pi / 4),\n",
    "      sqrt((2 - sqrt(3)) / (6 - 2 * sqrt(3))) * exp(-1j * pi / 4)],\n",
    "     [sqrt(1 / (6 + 2 * sqrt(3))), sqrt(1 / (6 + 2 * sqrt(3))),\n",
    "      sqrt(1 / (6 - 2 * sqrt(3))), sqrt(1 / (6 - 2 * sqrt(3)))]]\n",
    "V = Qobj(V, dims=[[2, 2], [2, 2]])\n",
    "\n",
    "\n",
    "def U(t):\n",
    "    return V * (1j * D * t).expm() * V.dag()\n"
   ],
   "metadata": {
    "collapsed": false,
    "pycharm": {
     "name": "#%% Define matrices\n",
     "is_executing": false
    }
   }
  },
  {
   "cell_type": "code",
   "execution_count": 11,
   "outputs": [
    {
     "data": {
      "text/plain": "[<matplotlib.lines.Line2D at 0x7f41bb215450>]"
     },
     "metadata": {},
     "output_type": "execute_result",
     "execution_count": 11
    },
    {
     "data": {
      "text/plain": "<Figure size 432x288 with 1 Axes>",
      "image/png": "[encoded data removed]"
     },
     "metadata": {
      "needs_background": "light"
     },
     "output_type": "display_data"
    }
   ],
   "source": [
    "# def tpcp(rho_cd, x):\n",
    "#     U_DE = get_unitary(x[0:16], n=4)\n",
    "#     U_DE = Qobj(U_DE, dims=[[2,2],[2,2]])\n",
    "#     U_CDE = tensor(identity(2), U_DE)\n",
    "#     \n",
    "#     # rho_E0 = get_dm(z_arr=[[],[x[16]],[x[17],x[18]]], eig_vals=(x[19],x[20]), n=2)\n",
    "#     rho_E0 = get_qubit_dm(*x[16:19])\n",
    "#     rho_cde = tensor(rho_cd, rho_E0)\n",
    "#     \n",
    "#     rho_cde = U_CDE * rho_cde * U_CDE.dag()\n",
    "#     rho_cd = rho_cde.ptrace([0,1])\n",
    "#     \n",
    "#     return rho_cd\n",
    "\n",
    "def tpcp(rho_cd, x):\n",
    "    U_EC = get_unitary(x[0:16], n=4)\n",
    "    U_EC = Qobj(U_EC, dims=[[2,2],[2,2]])\n",
    "    U_ECD = tensor(U_EC, identity(2))\n",
    "    \n",
    "    # rho_E0 = get_dm(z_arr=[[],[x[16]],[x[17],x[18]]], eig_vals=(x[19],x[20]), n=2)\n",
    "    rho_E0 = get_qubit_dm(*x[16:19])\n",
    "    rho_ecd = tensor(rho_E0, rho_cd)\n",
    "    \n",
    "    rho_ecd = U_ECD * rho_ecd * U_ECD.dag()\n",
    "    rho_cd = rho_ecd.ptrace([1, 2])\n",
    "    \n",
    "    return rho_cd\n",
    "\n",
    "def mutual_information(rho):\n",
    "    return entropy_mutual(rho, 0, 1, base=2)\n",
    "\n",
    "def mutual_inf_c(x, t):\n",
    "    psi_0 = tensor(basis(2, 0), basis(2, 0))  # |0>x|0>\n",
    "    rho_ab = ket2dm(psi_0)\n",
    "    U_t = U(t)\n",
    "    \n",
    "    rho_cd = U_t.dag() * rho_ab * U_t\n",
    "    rho_cd = tpcp(rho_cd, x)\n",
    "    rho_ab = U_t * rho_cd * U_t.dag()\n",
    "    \n",
    "    return entropy_mutual(rho_ab, 0, 1, base=2)\n",
    "\n",
    "\n",
    "bounds = [(None, None)]*19\n",
    "bounds[16] = (0, 1)\n",
    "bounds[17] = (0, pi)\n",
    "bounds[18] = (0, 2*pi)\n",
    "\n",
    "def max_mutual_c(t):\n",
    "    f = lambda x, t: -mutual_inf_c(x, t)\n",
    "    return -scipy.optimize.minimize(f, np.ones(19), args=t, bounds=bounds).fun\n",
    "\n",
    "# Plot\n",
    "t_arr = np.linspace(0, 1, 5)\n",
    "I_max_stine= np.zeros_like(t_arr)\n",
    "for i, t in enumerate(t_arr):\n",
    "    I_max_stine[i] = max_mutual_c(t)\n",
    "\n",
    "plt.plot(t_arr, I_max_stine)"
   ],
   "metadata": {
    "collapsed": false,
    "pycharm": {
     "name": "#%% Max mutual information\n",
     "is_executing": false
    }
   }
  },
  {
   "cell_type": "code",
   "execution_count": null,
   "outputs": [],
   "source": [
    "\n"
   ],
   "metadata": {
    "collapsed": false,
    "pycharm": {
     "name": "#%%\n",
     "is_executing": false
    }
   }
  }
 ],
 "metadata": {
  "kernelspec": {
   "display_name": "Python 3",
   "language": "python",
   "name": "python3"
  },
  "language_info": {
   "codemirror_mode": {
    "name": "ipython",
    "version": 2
   },
   "file_extension": ".py",
   "mimetype": "text/x-python",
   "name": "python",
   "nbconvert_exporter": "python",
   "pygments_lexer": "ipython2",
   "version": "2.7.6"
  },
  "pycharm": {
   "stem_cell": {
    "cell_type": "raw",
    "source": [],
    "metadata": {
     "collapsed": false
    }
   }
  }
 },
 "nbformat": 4,
 "nbformat_minor": 0
}