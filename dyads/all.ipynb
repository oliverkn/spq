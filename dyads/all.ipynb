{
 "cells": [
  {
   "cell_type": "code",
   "execution_count": 1,
   "metadata": {
    "collapsed": true,
    "pycharm": {
     "is_executing": false
    }
   },
   "outputs": [
    {
     "name": "stdout",
     "text": [
      "[[1.+0.j 2.+3.j]\n",
      " [2.-3.j 4.+0.j]]\n",
      "Quantum object: dims = [[2], [2]], shape = (2, 2), type = oper, isherm = True\n",
      "Qobj data =\n",
      "[[1. 0.]\n",
      " [0. 1.]]\n",
      "Quantum object: dims = [[4], [4]], shape = (4, 4), type = oper, isherm = True\n",
      "Qobj data =\n",
      "[[ 0.2786762  -0.16546241  0.05649008 -0.09473841]\n",
      " [-0.16546241  0.30368358 -0.05197053  0.00086599]\n",
      " [ 0.05649008 -0.05197053  0.11786216 -0.03054097]\n",
      " [-0.09473841  0.00086599 -0.03054097  0.29977806]]\n",
      "0.9999999999999998 True\n"
     ],
     "output_type": "stream"
    },
    {
     "name": "stderr",
     "text": [
      "/home/oliverkn/cloud/eth/2020_FS/spq/pycharm/core/dm_parametrization.py:51: ComplexWarning: Casting complex values to real discards the imaginary part\n",
      "  V[0:j - 1, 0:j - 1] = W\n",
      "/home/oliverkn/cloud/eth/2020_FS/spq/pycharm/core/dm_parametrization.py:52: ComplexWarning: Casting complex values to real discards the imaginary part\n",
      "  V[0:j - 1, j - 1] = s * z_u.trans()\n",
      "/home/oliverkn/cloud/eth/2020_FS/spq/pycharm/core/dm_parametrization.py:53: ComplexWarning: Casting complex values to real discards the imaginary part\n",
      "  V[j - 1, 0:j - 1] = -s * z_u.conj().trans()\n"
     ],
     "output_type": "stream"
    }
   ],
   "source": [
    "import numpy as np\n",
    "from numpy import pi, sqrt, exp, sin, cos\n",
    "import scipy.optimize\n",
    "from qutip import *\n",
    "import matplotlib.pyplot as plt\n",
    "from core.dm_parametrization import *"
   ]
  },
  {
   "cell_type": "code",
   "execution_count": 15,
   "outputs": [],
   "source": [
    "D = np.array([1, -1, 7, -7]) * pi / 12\n",
    "D = np.diag(D)\n",
    "D = Qobj(D, dims=[[2, 2], [2, 2]])\n",
    "\n",
    "V = [[sqrt((2 + sqrt(3)) / (6 + 2 * sqrt(3))) * exp(1j * pi / 4),\n",
    "      sqrt((2 + sqrt(3)) / (6 + 2 * sqrt(3))) * exp(-1j * pi / 4),\n",
    "      sqrt((2 - sqrt(3)) / (6 - 2 * sqrt(3))) * exp(1j * 3 * pi / 4),\n",
    "      sqrt((2 - sqrt(3)) / (6 - 2 * sqrt(3))) * exp(-1j * 3 * pi / 4)],\n",
    "     [sqrt(1 / (6 + 2 * sqrt(3))) * exp(1j * pi / 2),\n",
    "      sqrt(1 / (6 + 2 * sqrt(3))) * exp(-1j * pi / 2),\n",
    "      sqrt(1 / (6 - 2 * sqrt(3))) * exp(-1j * pi / 2),\n",
    "      sqrt(1 / (6 - 2 * sqrt(3))) * exp(1j * pi / 2)],\n",
    "     [sqrt((2 + sqrt(3)) / (6 + 2 * sqrt(3))) * exp(1j * 3 * pi / 4),\n",
    "      sqrt((2 + sqrt(3)) / (6 + 2 * sqrt(3))) * exp(-1j * 3 * pi / 4),\n",
    "      sqrt((2 - sqrt(3)) / (6 - 2 * sqrt(3))) * exp(1j * pi / 4),\n",
    "      sqrt((2 - sqrt(3)) / (6 - 2 * sqrt(3))) * exp(-1j * pi / 4)],\n",
    "     [sqrt(1 / (6 + 2 * sqrt(3))), sqrt(1 / (6 + 2 * sqrt(3))),\n",
    "      sqrt(1 / (6 - 2 * sqrt(3))), sqrt(1 / (6 - 2 * sqrt(3)))]]\n",
    "V = Qobj(V, dims=[[2, 2], [2, 2]])\n",
    "\n",
    "\n",
    "def U(t):\n",
    "    return V * (1j * D * t).expm() * V.dag()\n",
    "\n",
    "def mutual_information(rho):\n",
    "    return entropy_mutual(rho, 0, 1, base=2)\n",
    "\n",
    "plot_data = {}"
   ],
   "metadata": {
    "collapsed": false,
    "pycharm": {
     "name": "#%% Define matrices\n",
     "is_executing": false
    }
   }
  },
  {
   "cell_type": "code",
   "execution_count": 16,
   "outputs": [],
   "source": [
    "# def meas(rho, theta, phi):\n",
    "#     psi = cos(theta)*basis(2,0) + exp(1j*phi)*sin(theta)*basis(2,1)\n",
    "#     \n",
    "#     p0 = tensor(psi*psi.dag(), identity(2))\n",
    "#     p1 = 1 - p0\n",
    "#     \n",
    "#     return p0*rho*p0 + p1*rho*p1\n",
    "# \n",
    "# def mutual_inf_c(theta, phi, t):\n",
    "#     psi_0 = tensor(basis(2, 0), basis(2, 0))  # |0>x|0>\n",
    "#     rho_ab = ket2dm(psi_0)\n",
    "#     U_t = U(t)\n",
    "#     rho_cd = U_t.dag() * rho_ab * U_t\n",
    "#     \n",
    "#     rho_cd = meas(rho_cd, theta, phi)\n",
    "#     \n",
    "#     rho_ab = U_t* rho_cd * U_t.dag() \n",
    "#     \n",
    "#     return entropy_mutual(rho_ab, 0, 1, base=2)\n",
    "# \n",
    "# \n",
    "# bounds = [(0, np.pi), (0, 2*np.pi)]\n",
    "# \n",
    "# def max_mutual_c(t):\n",
    "#     f = lambda x: -mutual_inf_c(x[0], x[1], t)\n",
    "#     return -scipy.optimize.minimize(f, x0=(0.5,0.5), bounds=bounds).fun\n",
    "# \n",
    "# def max_mutual_c_glob(t):\n",
    "#     f = lambda x: -mutual_inf_c(x[0], x[1], t)\n",
    "#     return -scipy.optimize.shgo(f, bounds=bounds, iters=5).fun\n",
    "# \n",
    "# # Plot\n",
    "# \n",
    "# t_arr = np.linspace(0, 1, 40)\n",
    "# I_max = np.zeros_like(t_arr)\n",
    "# for i, t in enumerate(t_arr):\n",
    "#     I_max[i] = max_mutual_c(t)\n",
    "\n",
    "# print(I_max)\n",
    "\n",
    "# plt.plot(t_arr, I_max)"
   ],
   "metadata": {
    "collapsed": false,
    "pycharm": {
     "name": "#%% meas\n",
     "is_executing": false
    }
   }
  },
  {
   "cell_type": "code",
   "execution_count": 3,
   "outputs": [
    {
     "data": {
      "text/plain": "<Figure size 432x288 with 1 Axes>",
      "image/png": "[encoded data removed]"
     },
     "metadata": {
      "needs_background": "light"
     },
     "output_type": "display_data"
    }
   ],
   "source": [
    "def meas_herm(rho, a, b, r, theta):\n",
    "    M = np.zeros((2,2), dtype=complex)\n",
    "    M[0,0] = a\n",
    "    M[1,1] = b\n",
    "    M[0,1] = r*exp(1j*theta)\n",
    "    M[1,0] = np.conj(M[0,1])\n",
    "    M = Qobj(M)\n",
    "    eval, evec = M.eigenstates()\n",
    "    \n",
    "    p0 = evec[0]*evec[0].dag()\n",
    "    p1 = evec[1]*evec[1].dag()\n",
    "    p0 = tensor(p0, identity(2))\n",
    "    p1 = tensor(p1, identity(2))\n",
    "    \n",
    "    return p0*rho*p0 + p1*rho*p1\n",
    "    \n",
    "def mutual_inf_c(a, b, r, theta, t):\n",
    "    psi_0 = tensor(basis(2, 0), basis(2, 0))  # |0>x|0>\n",
    "    rho_ab = ket2dm(psi_0)\n",
    "    U_t = U(t)\n",
    "    rho_cd = U_t.dag() * rho_ab * U_t\n",
    "    \n",
    "    rho_cd = meas_herm(rho_cd, a, b, r, theta)\n",
    "    \n",
    "    rho_ab = U_t * rho_cd * U_t.dag()\n",
    "    \n",
    "    return entropy_mutual(rho_ab, 0, 1, base=2)\n",
    "\n",
    "\n",
    "def max_mutual_c(t):\n",
    "    f = lambda x: -mutual_inf_c(*x, t)\n",
    "    return -scipy.optimize.minimize(f, x0=(4,3,2,1)).fun\n",
    "\n",
    "# Plot\n",
    "t_arr = np.linspace(0, 1, 20)\n",
    "I_max_meas_herm = np.zeros_like(t_arr)\n",
    "for i, t in enumerate(t_arr):\n",
    "    I_max_meas_herm[i] = max_mutual_c(t)\n",
    "\n",
    "plt.plot(t_arr, I_max_meas_herm)\n",
    "plot_data['meas']=(t_arr, I_max_meas_herm)"
   ],
   "metadata": {
    "collapsed": false,
    "pycharm": {
     "name": "#%% meas_herm\n",
     "is_executing": false
    }
   }
  },
  {
   "cell_type": "code",
   "execution_count": 16,
   "outputs": [
    {
     "data": {
      "text/plain": "<Figure size 432x288 with 1 Axes>",
      "image/png": "[encoded data removed]"
     },
     "metadata": {
      "needs_background": "light"
     },
     "output_type": "display_data"
    }
   ],
   "source": [
    "def U_C(phi1, phi2, theta):\n",
    "    X = [[exp(1j * phi1) * cos(theta), exp(1j * phi2) * sin(theta)],\n",
    "         [-exp(-1j * phi2) * sin(theta), exp(-1j * phi1) * cos(theta)]]\n",
    "    return Qobj(X)\n",
    "\n",
    "def mutual_inf_c(ph1, ph2, theta, t):\n",
    "    psi_0 = tensor(basis(2, 0), basis(2, 0))  # |0>x|0>\n",
    "    rho_ab = ket2dm(psi_0)\n",
    "    U_t = U(t)\n",
    "    rho_cd = U_t.dag() * rho_ab * U_t\n",
    "    \n",
    "    UC = tensor(U_C(ph1, ph2, theta),identity(2))\n",
    "    rho_cd = UC * rho_cd * UC.dag()\n",
    "\n",
    "    rho_ab = U_t* rho_cd * U_t.dag() \n",
    "    \n",
    "    return entropy_mutual(rho_ab, 0, 1, base=2)\n",
    "\n",
    "def max_mutual_c(t):\n",
    "    f = lambda x: -mutual_inf_c(*x, t)\n",
    "    return -scipy.optimize.minimize(f, x0=(0.0,0.5,0.5)).fun\n",
    "\n",
    "t_arr = np.linspace(0, 1, 50)\n",
    "I_max_unit = np.zeros_like(t_arr)\n",
    "for i, t in enumerate(t_arr):\n",
    "    I_max_unit[i] = max_mutual_c(t)\n",
    "\n",
    "plt.plot(t_arr, I_max_unit)\n",
    "plot_data['unit']=(t_arr, I_max_unit)"
   ],
   "metadata": {
    "collapsed": false,
    "pycharm": {
     "name": "#%% unit\n",
     "is_executing": false
    }
   }
  },
  {
   "cell_type": "code",
   "execution_count": 5,
   "outputs": [
    {
     "data": {
      "text/plain": "<Figure size 432x288 with 1 Axes>",
      "image/png": "[encoded data removed]"
     },
     "metadata": {
      "needs_background": "light"
     },
     "output_type": "display_data"
    }
   ],
   "source": [
    "def U_C(phi1, phi2, theta):\n",
    "    X = [[exp(1j * phi1) * cos(theta), exp(1j * phi2) * sin(theta)],\n",
    "         [-exp(-1j * phi2) * sin(theta), exp(-1j * phi1) * cos(theta)]]\n",
    "    return Qobj(X)\n",
    "\n",
    "def meas_herm(rho, a, b, r, theta):\n",
    "    M = np.zeros((2,2), dtype=complex)\n",
    "    M[0,0] = a\n",
    "    M[1,1] = b\n",
    "    M[0,1] = r*exp(1j*theta)\n",
    "    M[1,0] = np.conj(M[0,1])\n",
    "    M = Qobj(M)\n",
    "    eval, evec = M.eigenstates()\n",
    "    \n",
    "    p0 = evec[0]*evec[0].dag()\n",
    "    p1 = evec[1]*evec[1].dag()\n",
    "    p0 = tensor(p0, identity(2))\n",
    "    p1 = tensor(p1, identity(2))\n",
    "    \n",
    "    return p0*rho*p0 + p1*rho*p1\n",
    "\n",
    "def mutual_inf_c(ph1, ph2, theta, a, b, r, alpha, t):\n",
    "    psi_0 = tensor(basis(2, 0), basis(2, 0))  # |0>x|0>\n",
    "    rho_ab = ket2dm(psi_0)\n",
    "    U_t = U(t)\n",
    "    rho_cd = U_t.dag() * rho_ab * U_t\n",
    "    \n",
    "    UC = tensor(U_C(ph1, ph2, theta),identity(2))\n",
    "    rho_cd = UC * rho_cd * UC.dag()\n",
    "    rho_cd = meas_herm(rho_cd, a, b, r, alpha)\n",
    "    \n",
    "    rho_ab = U_t * rho_cd * U_t.dag()\n",
    "    \n",
    "    return entropy_mutual(rho_ab, 0, 1, base=2)\n",
    "\n",
    "def max_mutual_c(t):\n",
    "    f = lambda x: -mutual_inf_c(*x, t)\n",
    "    return -scipy.optimize.minimize(f, x0=(0.5,0.5,0.5,1,4,3,7)).fun\n",
    "\n",
    "t_arr = np.linspace(0, 1, 10)\n",
    "I_max_unit_meas = np.zeros_like(t_arr)\n",
    "for i, t in enumerate(t_arr):\n",
    "    I_max_unit_meas[i] = max_mutual_c(t)\n",
    "\n",
    "plt.plot(t_arr, I_max_unit_meas)\n",
    "plot_data['meas']=(t_arr, I_max_unit_meas)"
   ],
   "metadata": {
    "collapsed": false,
    "pycharm": {
     "name": "#%% unit + meas\n",
     "is_executing": false
    }
   }
  },
  {
   "cell_type": "code",
   "execution_count": 17,
   "outputs": [
    {
     "data": {
      "text/plain": "<Figure size 432x288 with 1 Axes>",
      "image/png": "[encoded data removed]"
     },
     "metadata": {
      "needs_background": "light"
     },
     "output_type": "display_data"
    }
   ],
   "source": [
    "def tpcp(rho_cd, x):\n",
    "    U_EC = get_unitary(x[0:16], n=4)\n",
    "    U_EC = Qobj(U_EC, dims=[[2,2],[2,2]])\n",
    "    U_ECD = tensor(U_EC, identity(2))\n",
    "    \n",
    "    # rho_E0 = get_dm(z_arr=[[],[x[16]],[x[17],x[18]]], eig_vals=(x[19],x[20]), n=2)\n",
    "    rho_E0 = get_qubit_dm(*x[16:19])\n",
    "    rho_ecd = tensor(rho_E0, rho_cd)\n",
    "    \n",
    "    rho_ecd = U_ECD * rho_ecd * U_ECD.dag()\n",
    "    rho_cd = rho_ecd.ptrace([1, 2])\n",
    "    \n",
    "    return rho_cd\n",
    "\n",
    "def mutual_information(rho):\n",
    "    return entropy_mutual(rho, 0, 1, base=2)\n",
    "\n",
    "def mutual_inf_c(x, t):\n",
    "    psi_0 = tensor(basis(2, 0), basis(2, 0))  # |0>x|0>\n",
    "    rho_ab = ket2dm(psi_0)\n",
    "    U_t = U(t)\n",
    "    \n",
    "    rho_cd = U_t.dag() * rho_ab * U_t\n",
    "    rho_cd = tpcp(rho_cd, x)\n",
    "    rho_ab = U_t * rho_cd * U_t.dag()\n",
    "    \n",
    "    return entropy_mutual(rho_ab, 0, 1, base=2)\n",
    "\n",
    "\n",
    "bounds = [(None, None)]*19\n",
    "bounds[16] = (0, 1)\n",
    "bounds[17] = (0, pi)\n",
    "bounds[18] = (0, 2*pi)\n",
    "\n",
    "def max_mutual_c(t):\n",
    "    f = lambda x, t: -mutual_inf_c(x, t)\n",
    "    return -scipy.optimize.minimize(f, np.ones(19), args=t, bounds=bounds).fun\n",
    "\n",
    "# Plot\n",
    "t_arr = np.linspace(0, 1, 50)\n",
    "I_max_stine= np.zeros_like(t_arr)\n",
    "for i, t in enumerate(t_arr):\n",
    "    print((i, t))\n",
    "    I_max_stine[i] = max_mutual_c(t)\n",
    "\n",
    "plt.plot(t_arr, I_max_stine)\n",
    "plot_data['TPCP']=(t_arr, I_max_stine)"
   ],
   "metadata": {
    "collapsed": false,
    "pycharm": {
     "name": "#%% TPCP via Stinespring\n",
     "is_executing": false
    }
   }
  },
  {
   "cell_type": "code",
   "execution_count": 19,
   "outputs": [
    {
     "data": {
      "text/plain": "<matplotlib.legend.Legend at 0x7f022d9ee7d0>"
     },
     "metadata": {},
     "output_type": "execute_result",
     "execution_count": 19
    },
    {
     "data": {
      "text/plain": "<Figure size 432x288 with 1 Axes>",
      "image/png": "[encoded data removed]"
     },
     "metadata": {
      "needs_background": "light"
     },
     "output_type": "display_data"
    }
   ],
   "source": [
    "plt.figure()\n",
    "\n",
    "for label, (t_arr, I_max) in plot_data.items():\n",
    "    plt.plot(t_arr, I_max, label=label)\n",
    "plt.legend()\n"
   ],
   "metadata": {
    "collapsed": false,
    "pycharm": {
     "name": "#%%\n",
     "is_executing": false
    }
   }
  },
  {
   "cell_type": "code",
   "execution_count": null,
   "outputs": [],
   "source": [
    "\n"
   ],
   "metadata": {
    "collapsed": false,
    "pycharm": {
     "name": "#%%\n"
    }
   }
  }
 ],
 "metadata": {
  "kernelspec": {
   "display_name": "Python 3",
   "language": "python",
   "name": "python3"
  },
  "language_info": {
   "codemirror_mode": {
    "name": "ipython",
    "version": 2
   },
   "file_extension": ".py",
   "mimetype": "text/x-python",
   "name": "python",
   "nbconvert_exporter": "python",
   "pygments_lexer": "ipython2",
   "version": "2.7.6"
  },
  "pycharm": {
   "stem_cell": {
    "cell_type": "raw",
    "source": [],
    "metadata": {
     "collapsed": false
    }
   }
  }
 },
 "nbformat": 4,
 "nbformat_minor": 0
}