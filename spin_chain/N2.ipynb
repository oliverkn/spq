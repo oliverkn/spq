{
 "cells": [
  {
   "cell_type": "code",
   "execution_count": 1,
   "metadata": {
    "collapsed": true,
    "pycharm": {
     "is_executing": false
    }
   },
   "outputs": [],
   "source": [
    "import numpy as np\n",
    "import qutip as q"
   ]
  },
  {
   "cell_type": "code",
   "execution_count": 14,
   "outputs": [
    {
     "name": "stdout",
     "text": [
      "Quantum object: dims = [[2, 2], [2, 2]], shape = (4, 4), type = oper, isherm = True\n",
      "Qobj data =\n",
      "[[ 0.  0.  0.  0.]\n",
      " [ 0.  2. -2.  0.]\n",
      " [ 0. -2.  2.  0.]\n",
      " [ 0.  0.  0.  0.]]\n",
      "[0. 0. 0. 4.]\n",
      "(array([0.00000000e+00, 0.00000000e+00, 2.22044605e-15, 4.00000000e+00]), array([Quantum object: dims = [[2, 2], [1, 1]], shape = (4, 1), type = ket\n",
      "Qobj data =\n",
      "[[1.]\n",
      " [0.]\n",
      " [0.]\n",
      " [0.]],\n",
      "       Quantum object: dims = [[2, 2], [1, 1]], shape = (4, 1), type = ket\n",
      "Qobj data =\n",
      "[[0.]\n",
      " [0.]\n",
      " [0.]\n",
      " [1.]],\n",
      "       Quantum object: dims = [[2, 2], [1, 1]], shape = (4, 1), type = ket\n",
      "Qobj data =\n",
      "[[0.        ]\n",
      " [0.70710678]\n",
      " [0.70710678]\n",
      " [0.        ]],\n",
      "       Quantum object: dims = [[2, 2], [1, 1]], shape = (4, 1), type = ket\n",
      "Qobj data =\n",
      "[[ 0.        ]\n",
      " [-0.70710678]\n",
      " [ 0.70710678]\n",
      " [ 0.        ]]], dtype=object))\n"
     ],
     "output_type": "stream"
    }
   ],
   "source": [
    "N = 2\n",
    "dims = [2] * N\n",
    "\n",
    "H = q.qzero(dimensions=dims)\n",
    "H = H + N/2. * q.identity(dims)\n",
    "\n",
    "sx, sy, sz = q.sigmax(), q.sigmay(), q.sigmaz()\n",
    "\n",
    "H = H - q.tensor(sx, sx)\n",
    "H = H - q.tensor(sy, sy)\n",
    "H = H - q.tensor(sz, sz)\n",
    "\n",
    "print(H)\n",
    "print(H.eigenenergies())\n",
    "print(H.eigenstates())"
   ],
   "metadata": {
    "collapsed": false,
    "pycharm": {
     "name": "#%%\n",
     "is_executing": false
    }
   }
  },
  {
   "cell_type": "code",
   "execution_count": 17,
   "outputs": [
    {
     "name": "stdout",
     "text": [
      "Quantum object: dims = [[2, 2], [1, 1]], shape = (4, 1), type = ket\n",
      "Qobj data =\n",
      "[[0.]\n",
      " [1.]\n",
      " [0.]\n",
      " [0.]]\n"
     ],
     "output_type": "stream"
    }
   ],
   "source": [
    "psi_0 =q.tensor(q.basis(2,0), q.basis(2,1))\n",
    "print(psi_0)\n"
   ],
   "metadata": {
    "collapsed": false,
    "pycharm": {
     "name": "#%%\n",
     "is_executing": false
    }
   }
  },
  {
   "cell_type": "code",
   "execution_count": 19,
   "outputs": [
    {
     "name": "stdout",
     "text": [
      "[Quantum object: dims = [[2, 2], [1, 1]], shape = (4, 1), type = ket\n",
      "Qobj data =\n",
      "[[0.]\n",
      " [1.]\n",
      " [0.]\n",
      " [0.]], Quantum object: dims = [[2, 2], [1, 1]], shape = (4, 1), type = ket\n",
      "Qobj data =\n",
      "[[0.        +0.j        ]\n",
      " [0.99211955-0.08842141j]\n",
      " [0.00788044+0.08842141j]\n",
      " [0.        +0.j        ]], Quantum object: dims = [[2, 2], [1, 1]], shape = (4, 1), type = ket\n",
      "Qobj data =\n",
      "[[0.        +0.j        ]\n",
      " [0.96872663-0.17405559j]\n",
      " [0.0312734 +0.17405559j]\n",
      " [0.        +0.j        ]], Quantum object: dims = [[2, 2], [1, 1]], shape = (4, 1), type = ket\n",
      "Qobj data =\n",
      "[[0.        +0.j        ]\n",
      " [0.93055863-0.25420318j]\n",
      " [0.06944147+0.25420318j]\n",
      " [0.        +0.j        ]], Quantum object: dims = [[2, 2], [1, 1]], shape = (4, 1), type = ket\n",
      "Qobj data =\n",
      "[[0.        +0.j       ]\n",
      " [0.87881871-0.3263378j]\n",
      " [0.12118149+0.3263378j]\n",
      " [0.        +0.j       ]], Quantum object: dims = [[2, 2], [1, 1]], shape = (4, 1), type = ket\n",
      "Qobj data =\n",
      "[[0.        +0.j        ]\n",
      " [0.81513782-0.38818564j]\n",
      " [0.18486253+0.38818564j]\n",
      " [0.        +0.j        ]], Quantum object: dims = [[2, 2], [1, 1]], shape = (4, 1), type = ket\n",
      "Qobj data =\n",
      "[[0.        +0.j        ]\n",
      " [0.74152329-0.43779718j]\n",
      " [0.25847722+0.43779718j]\n",
      " [0.        +0.j        ]], Quantum object: dims = [[2, 2], [1, 1]], shape = (4, 1), type = ket\n",
      "Qobj data =\n",
      "[[0.       +0.j        ]\n",
      " [0.6602956-0.47360857j]\n",
      " [0.3397051+0.47360857j]\n",
      " [0.       +0.j        ]], Quantum object: dims = [[2, 2], [1, 1]], shape = (4, 1), type = ket\n",
      "Qobj data =\n",
      "[[0.        +0.j        ]\n",
      " [0.57401519-0.49449102j]\n",
      " [0.42598571+0.49449102j]\n",
      " [0.        +0.j        ]], Quantum object: dims = [[2, 2], [1, 1]], shape = (4, 1), type = ket\n",
      "Qobj data =\n",
      "[[0.        +0.j        ]\n",
      " [0.48540176-0.49978627j]\n",
      " [0.51459936+0.49978627j]\n",
      " [0.        +0.j        ]]]\n"
     ],
     "output_type": "stream"
    }
   ],
   "source": [
    "t_arr = np.linspace(0,0.4,10)\n",
    "res = q.sesolve(H, psi_0, t_arr)\n",
    "\n",
    "print(res.states)"
   ],
   "metadata": {
    "collapsed": false,
    "pycharm": {
     "name": "#%%\n",
     "is_executing": false
    }
   }
  },
  {
   "cell_type": "code",
   "execution_count": 20,
   "outputs": [
    {
     "data": {
      "text/plain": "Quantum object: dims = [[2, 2], [1, 1]], shape = (4, 1), type = ket\nQobj data =\n[[0.]\n [1.]\n [0.]\n [0.]]",
      "text/latex": "Quantum object: dims = [[2, 2], [1, 1]], shape = (4, 1), type = ket\\begin{equation*}\\left(\\begin{array}{*{11}c}0.0\\\\1.0\\\\0.0\\\\0.0\\\\\\end{array}\\right)\\end{equation*}"
     },
     "metadata": {},
     "output_type": "execute_result",
     "execution_count": 20
    }
   ],
   "source": [
    "psi = res.states[0]\n",
    "\n"
   ],
   "metadata": {
    "collapsed": false,
    "pycharm": {
     "name": "#%%\n",
     "is_executing": false
    }
   }
  },
  {
   "cell_type": "code",
   "execution_count": null,
   "outputs": [],
   "source": [
    "\n"
   ],
   "metadata": {
    "collapsed": false,
    "pycharm": {
     "name": "#%%\n"
    }
   }
  }
 ],
 "metadata": {
  "kernelspec": {
   "display_name": "Python 3",
   "language": "python",
   "name": "python3"
  },
  "language_info": {
   "codemirror_mode": {
    "name": "ipython",
    "version": 2
   },
   "file_extension": ".py",
   "mimetype": "text/x-python",
   "name": "python",
   "nbconvert_exporter": "python",
   "pygments_lexer": "ipython2",
   "version": "2.7.6"
  },
  "pycharm": {
   "stem_cell": {
    "cell_type": "raw",
    "source": [],
    "metadata": {
     "collapsed": false
    }
   }
  }
 },
 "nbformat": 4,
 "nbformat_minor": 0
}