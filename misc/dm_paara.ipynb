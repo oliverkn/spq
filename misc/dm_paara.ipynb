{
 "cells": [
  {
   "cell_type": "code",
   "execution_count": 2,
   "metadata": {
    "collapsed": true,
    "pycharm": {
     "is_executing": false
    }
   },
   "outputs": [],
   "source": [
    "import numpy as np\n",
    "import qutip as qu"
   ]
  },
  {
   "cell_type": "code",
   "execution_count": 51,
   "outputs": [
    {
     "name": "stdout",
     "text": [
      "[1, 1]\n"
     ],
     "output_type": "stream"
    }
   ],
   "source": [
    "n = 3\n",
    "\n",
    "z = np.array([[],[1],[1,1]])\n",
    "\n",
    "j = 3\n",
    "\n",
    "print(z[j-1])"
   ],
   "metadata": {
    "collapsed": false,
    "pycharm": {
     "name": "#%%\n",
     "is_executing": false
    }
   }
  },
  {
   "cell_type": "code",
   "execution_count": 54,
   "outputs": [
    {
     "name": "stdout",
     "text": [
      "Quantum object: dims = [[2], [2]], shape = (2, 2), type = oper, isherm = True\n",
      "Qobj data =\n",
      "[[1. 0.]\n",
      " [0. 1.]]\n",
      "Quantum object: dims = [[2], [2]], shape = (2, 2), type = oper, isherm = True\n",
      "Qobj data =\n",
      "[[0.5 0.5]\n",
      " [0.5 0.5]]\n",
      "Quantum object: dims = [[2], [2]], shape = (2, 2), type = oper, isherm = True\n",
      "Qobj data =\n",
      "[[ 0.57797185 -0.42202815]\n",
      " [-0.42202815  0.57797185]]\n",
      "--------------------\n",
      "[[ 0.57797185 -0.42202815  0.        ]\n",
      " [-0.42202815  0.57797185  0.        ]\n",
      " [ 0.          0.          0.        ]]\n",
      "dfhkajsdf\n",
      "[[ 0.57797185 -0.42202815  0.698456  ]\n",
      " [-0.42202815  0.57797185  0.698456  ]\n",
      " [-0.698456   -0.698456    0.15594369]]\n",
      "Quantum object: dims = [[3], [3]], shape = (3, 3), type = oper, isherm = False\n",
      "Qobj data =\n",
      "[[ 0.57797185 -0.42202815  0.698456  ]\n",
      " [-0.42202815  0.57797185  0.698456  ]\n",
      " [-0.698456   -0.698456    0.15594369]]\n"
     ],
     "output_type": "stream"
    },
    {
     "name": "stderr",
     "text": [
      "/home/oliverkn/cloud/eth/2020_FS/spq/pycharm/venv/lib/python3.7/site-packages/ipykernel_launcher.py:24: ComplexWarning: Casting complex values to real discards the imaginary part\n",
      "/home/oliverkn/cloud/eth/2020_FS/spq/pycharm/venv/lib/python3.7/site-packages/ipykernel_launcher.py:26: ComplexWarning: Casting complex values to real discards the imaginary part\n",
      "/home/oliverkn/cloud/eth/2020_FS/spq/pycharm/venv/lib/python3.7/site-packages/ipykernel_launcher.py:27: ComplexWarning: Casting complex values to real discards the imaginary part\n"
     ],
     "output_type": "stream"
    }
   ],
   "source": [
    "zj = qu.Qobj([z[j-1]])\n",
    "V = qu.identity(j-1)\n",
    "print(V)\n",
    "\n",
    "r = np.linalg.norm(zj, ord=2)\n",
    "c = np.cos(r)\n",
    "s = np.sin(r)\n",
    "z_u = zj.unit()\n",
    "\n",
    "print(z_u)\n",
    "\n",
    "zm = z_u.dag() * z_u\n",
    "\n",
    "print(zm)\n",
    "\n",
    "\n",
    "\n",
    "V = V - (1-c)*zm\n",
    "print(V)\n",
    "\n",
    "print('--------------------')\n",
    "\n",
    "W = np.zeros((j,j))\n",
    "\n",
    "\n",
    "W[0:j-1,0:j-1] = V\n",
    "print(W)\n",
    "W[0:j-1, j-1] = s*z_u\n",
    "W[j-1, 0:j-1] = -s*z_u.conj()\n",
    "W[j-1,j-1] = c\n",
    "print('dfhkajsdf')\n",
    "print(W)\n",
    "W = qu.Qobj(W)\n",
    "print(W)"
   ],
   "metadata": {
    "collapsed": false,
    "pycharm": {
     "name": "#%%\n",
     "is_executing": false
    }
   }
  },
  {
   "cell_type": "code",
   "execution_count": 55,
   "outputs": [
    {
     "name": "stdout",
     "text": [
      "Quantum object: dims = [[3], [3]], shape = (3, 3), type = oper, isherm = True\n",
      "Qobj data =\n",
      "[[1. 0. 0.]\n",
      " [0. 1. 0.]\n",
      " [0. 0. 1.]]\n"
     ],
     "output_type": "stream"
    }
   ],
   "source": [
    "print(W.dag() * W)"
   ],
   "metadata": {
    "collapsed": false,
    "pycharm": {
     "name": "#%% check unit\n",
     "is_executing": false
    }
   }
  },
  {
   "cell_type": "code",
   "execution_count": 6,
   "outputs": [],
   "source": [
    "def compute_V(n, j, z):\n",
    "    z_u = qu.Qobj(z).unit()\n",
    "    r = np.linalg.norm(z, ord=2)\n",
    "    c = np.cos(r)\n",
    "    s = np.sin(r)\n",
    "    \n",
    "    W = qu.identity(j-1) - (1-c)*z_u * z_u.dag()\n",
    "    \n",
    "    V = np.zeros((n,n))\n",
    "    V[0:j-1,0:j-1] = W\n",
    "    V[0:j-1, j-1] = s*z_u.trans()\n",
    "    V[j-1, 0:j-1] = -s*z_u.conj().trans()\n",
    "    V[j-1,j-1] = c\n",
    "    \n",
    "    V[j:,j:] = np.identity(n-j)\n",
    "    \n",
    "    \n",
    "    return qu.Qobj(V)"
   ],
   "metadata": {
    "collapsed": false,
    "pycharm": {
     "name": "#%%\n",
     "is_executing": false
    }
   }
  },
  {
   "cell_type": "code",
   "execution_count": 8,
   "outputs": [
    {
     "name": "stdout",
     "text": [
      "Quantum object: dims = [[10], [10]], shape = (10, 10), type = oper, isherm = False\n",
      "Qobj data =\n",
      "[[ 0.57797185 -0.42202815  0.698456    0.          0.          0.\n",
      "   0.          0.          0.          0.        ]\n",
      " [-0.42202815  0.57797185  0.698456    0.          0.          0.\n",
      "   0.          0.          0.          0.        ]\n",
      " [-0.698456   -0.698456    0.15594369  0.          0.          0.\n",
      "   0.          0.          0.          0.        ]\n",
      " [ 0.          0.          0.          1.          0.          0.\n",
      "   0.          0.          0.          0.        ]\n",
      " [ 0.          0.          0.          0.          1.          0.\n",
      "   0.          0.          0.          0.        ]\n",
      " [ 0.          0.          0.          0.          0.          1.\n",
      "   0.          0.          0.          0.        ]\n",
      " [ 0.          0.          0.          0.          0.          0.\n",
      "   1.          0.          0.          0.        ]\n",
      " [ 0.          0.          0.          0.          0.          0.\n",
      "   0.          1.          0.          0.        ]\n",
      " [ 0.          0.          0.          0.          0.          0.\n",
      "   0.          0.          1.          0.        ]\n",
      " [ 0.          0.          0.          0.          0.          0.\n",
      "   0.          0.          0.          1.        ]]\n",
      "True\n",
      "Quantum object: dims = [[10], [10]], shape = (10, 10), type = oper, isherm = True\n",
      "Qobj data =\n",
      "[[1. 0. 0. 0. 0. 0. 0. 0. 0. 0.]\n",
      " [0. 1. 0. 0. 0. 0. 0. 0. 0. 0.]\n",
      " [0. 0. 1. 0. 0. 0. 0. 0. 0. 0.]\n",
      " [0. 0. 0. 1. 0. 0. 0. 0. 0. 0.]\n",
      " [0. 0. 0. 0. 1. 0. 0. 0. 0. 0.]\n",
      " [0. 0. 0. 0. 0. 1. 0. 0. 0. 0.]\n",
      " [0. 0. 0. 0. 0. 0. 1. 0. 0. 0.]\n",
      " [0. 0. 0. 0. 0. 0. 0. 1. 0. 0.]\n",
      " [0. 0. 0. 0. 0. 0. 0. 0. 1. 0.]\n",
      " [0. 0. 0. 0. 0. 0. 0. 0. 0. 1.]]\n"
     ],
     "output_type": "stream"
    },
    {
     "name": "stderr",
     "text": [
      "/home/oliverkn/cloud/eth/2020_FS/spq/pycharm/venv/lib/python3.7/site-packages/ipykernel_launcher.py:10: ComplexWarning: Casting complex values to real discards the imaginary part\n",
      "  # Remove the CWD from sys.path while we load stuff.\n",
      "/home/oliverkn/cloud/eth/2020_FS/spq/pycharm/venv/lib/python3.7/site-packages/ipykernel_launcher.py:11: ComplexWarning: Casting complex values to real discards the imaginary part\n",
      "  # This is added back by InteractiveShellApp.init_path()\n",
      "/home/oliverkn/cloud/eth/2020_FS/spq/pycharm/venv/lib/python3.7/site-packages/ipykernel_launcher.py:12: ComplexWarning: Casting complex values to real discards the imaginary part\n",
      "  if sys.path[0] == '':\n"
     ],
     "output_type": "stream"
    }
   ],
   "source": [
    "V = compute_V(10, 3, np.array([1.,1.]))\n",
    "print(V)\n",
    "print(V.isunitary)\n",
    "print(V.dag() * V)"
   ],
   "metadata": {
    "collapsed": false,
    "pycharm": {
     "name": "#%%\n",
     "is_executing": false
    }
   }
  },
  {
   "cell_type": "code",
   "execution_count": 184,
   "outputs": [
    {
     "name": "stderr",
     "text": [
      "/home/oliverkn/cloud/eth/2020_FS/spq/pycharm/venv/lib/python3.7/site-packages/ipykernel_launcher.py:10: ComplexWarning: Casting complex values to real discards the imaginary part\n",
      "  # Remove the CWD from sys.path while we load stuff.\n",
      "/home/oliverkn/cloud/eth/2020_FS/spq/pycharm/venv/lib/python3.7/site-packages/ipykernel_launcher.py:11: ComplexWarning: Casting complex values to real discards the imaginary part\n",
      "  # This is added back by InteractiveShellApp.init_path()\n",
      "/home/oliverkn/cloud/eth/2020_FS/spq/pycharm/venv/lib/python3.7/site-packages/ipykernel_launcher.py:12: ComplexWarning: Casting complex values to real discards the imaginary part\n",
      "  if sys.path[0] == '':\n"
     ],
     "output_type": "stream"
    },
    {
     "data": {
      "text/plain": "(True, 1.0000000000000002)"
     },
     "metadata": {},
     "output_type": "execute_result",
     "execution_count": 184
    }
   ],
   "source": [
    "n = 4\n",
    "\n",
    "V_arr = []\n",
    "\n",
    "z_arr = [[],[1.],[1.,1.],[1.,1.,1.]]\n",
    "\n",
    "U_n = qu.identity(n)\n",
    "\n",
    "for j in range(2, n + 1):\n",
    "    zj = np.array(z_arr[j-1])\n",
    "    # V_arr.append(compute_V(n, j, zj))\n",
    "#\n",
    "    A_j = compute_V(n, j, zj)\n",
    "\n",
    "    U_n = A_j * U_n\n",
    "\n",
    "# print(U_n*U_n.dag())\n",
    "\n",
    "D = np.diag([0.5, 0.1, 0.1, 0.3])\n",
    "D = qu.Qobj(D)\n",
    "\n",
    "rho = U_n * D * U_n.dag()\n",
    "\n",
    "rho.isherm, rho.tr()"
   ],
   "metadata": {
    "collapsed": false,
    "pycharm": {
     "name": "#%%\n",
     "is_executing": false
    }
   }
  },
  {
   "cell_type": "code",
   "execution_count": 194,
   "outputs": [
    {
     "data": {
      "text/plain": "Quantum object: dims = [[2], [2]], shape = (2, 2), type = oper, isherm = False\nQobj data =\n[[0.64599099 0.10005367]\n [0.01111707 0.02822322]]",
      "text/latex": "Quantum object: dims = [[2], [2]], shape = (2, 2), type = oper, isherm = False\\begin{equation*}\\left(\\begin{array}{*{11}c}0.646 & 0.100\\\\0.011 & 0.028\\\\\\end{array}\\right)\\end{equation*}"
     },
     "metadata": {},
     "output_type": "execute_result",
     "execution_count": 194
    }
   ],
   "source": [
    "S = qu.Qobj(rho, dims=[[2,2], [2,2]])\n",
    "rho_in = [[0.9,0],[0,0.1]]\n",
    "rho_in = qu.Qobj(rho_in)\n",
    "\n",
    "qu.ptrace(qu.tensor(rho_in.trans(), qu.identity(2)) * S, 0)\n",
    "\n"
   ],
   "metadata": {
    "collapsed": false,
    "pycharm": {
     "name": "#%%\n",
     "is_executing": false
    }
   }
  },
  {
   "cell_type": "code",
   "execution_count": 178,
   "outputs": [
    {
     "name": "stdout",
     "text": [
      "Quantum object: dims = [[2], [2]], shape = (2, 2), type = oper, isherm = True\n",
      "Qobj data =\n",
      "[[ 0.6219395  -0.24595121]\n",
      " [-0.24595121  0.81359603]]\n",
      "Quantum object: dims = [[2], [2]], shape = (2, 2), type = oper, isherm = False\n",
      "Qobj data =\n",
      "[[ 0.20102044  0.03836232]\n",
      " [-0.08160244  0.02132103]]\n",
      "Quantum object: dims = [[2], [2]], shape = (2, 2), type = oper, isherm = False\n",
      "Qobj data =\n",
      "[[ 0.20102044 -0.08160244]\n",
      " [ 0.03836232  0.02132103]]\n",
      "Quantum object: dims = [[2], [2]], shape = (2, 2), type = oper, isherm = True\n",
      "Qobj data =\n",
      "[[ 0.34721781 -0.04755831]\n",
      " [-0.04755831  0.21724666]]\n"
     ],
     "output_type": "stream"
    }
   ],
   "source": [
    "def apply_choi(rho_in, rho_choi, dim_a):\n",
    "    return dim_a * qu.ptrace(qu.tensor(rho_in.trans(), qu.identity(2)) * rho_choi, 1)\n",
    "\n",
    "def apply_super(op, super_op):\n",
    "    return qu.vector_to_operator(super_op * qu.operator_to_vector(op))\n",
    "\n",
    "#construct S\n",
    "\n",
    "\n",
    "def op_basis(n, k):\n",
    "    b = np.zeros((n,n))\n",
    "    b[k%n,k//n]=1\n",
    "    return qu.Qobj(b)\n",
    "\n",
    "S = np.zeros((4,4))\n",
    "\n",
    "rho = qu.Qobj(rho, dims=[[2,2], [2,2]])\n",
    "\n",
    "for i in range(n):\n",
    "    b = op_basis(2, i)\n",
    "    b_post = apply_choi(b, rho, 2)\n",
    "    print(b_post)\n",
    "\n",
    "# op0 = np.zeros((2,2))\n",
    "# op0[0,0]=1\n",
    "# op0 = qu.Qobj(op0)\n",
    "# op0 = qu.operator_to_vector(op0)\n",
    "# op0\n"
   ],
   "metadata": {
    "collapsed": false,
    "pycharm": {
     "name": "#%%\n",
     "is_executing": false
    }
   }
  },
  {
   "cell_type": "code",
   "execution_count": 176,
   "outputs": [
    {
     "name": "stdout",
     "text": [
      "Quantum object: dims = [[2, 2], [2, 2]], shape = (4, 4), type = oper, isherm = True\n",
      "Qobj data =\n",
      "[[ 0.31096975 -0.1229756   0.10051022 -0.04080122]\n",
      " [-0.1229756   0.40679802  0.01918116  0.01066052]\n",
      " [ 0.10051022  0.01918116  0.17360891 -0.02377916]\n",
      " [-0.04080122  0.01066052 -0.02377916  0.10862333]]\n",
      "Quantum object: dims = [[2], [2]], shape = (2, 2), type = oper, isherm = True\n",
      "Qobj data =\n",
      "[[ 0.48457865 -0.14675476]\n",
      " [-0.14675476  0.51542135]]\n",
      "Quantum object: dims = [[[2, 2], [2, 2]], [[2, 2], [2, 2]]], shape = (16, 16), type = super, isherm = True, superrep = choi\n",
      "Qobj data =\n",
      "[[ 9.67021843e-02 -3.82416924e-02  3.12556385e-02 -1.26879448e-02\n",
      "  -3.82416924e-02  1.26501876e-01  5.96476031e-03  3.31509821e-03\n",
      "   3.12556385e-02  5.96476031e-03  5.39871176e-02 -7.39459805e-03\n",
      "  -1.26879448e-02  3.31509821e-03 -7.39459805e-03  3.37785698e-02]\n",
      " [-3.82416924e-02  1.51229990e-02 -1.23603053e-02  5.01755453e-03\n",
      "   1.51229990e-02 -5.00262315e-02 -2.35881465e-03 -1.31098348e-03\n",
      "  -1.23603053e-02 -2.35881465e-03 -2.13496599e-02  2.92425602e-03\n",
      "   5.01755453e-03 -1.31098348e-03  2.92425602e-03 -1.33580196e-02]\n",
      " [ 3.12556385e-02 -1.23603053e-02  1.01023048e-02 -4.10093960e-03\n",
      "  -1.23603053e-02  4.08873590e-02  1.92790260e-03  1.07149091e-03\n",
      "   1.01023048e-02  1.92790260e-03  1.74494697e-02 -2.39004823e-03\n",
      "  -4.10093960e-03  1.07149091e-03 -2.39004823e-03  1.09177551e-02]\n",
      " [-1.26879448e-02  5.01755453e-03 -4.10093960e-03  1.66473947e-03\n",
      "   5.01755453e-03 -1.65978549e-02 -7.82614686e-04 -4.34962078e-04\n",
      "  -4.10093960e-03 -7.82614686e-04 -7.08345498e-03  9.70218539e-04\n",
      "   1.66473947e-03 -4.34962078e-04  9.70218539e-04 -4.43196430e-03]\n",
      " [-3.82416924e-02  1.51229990e-02 -1.23603053e-02  5.01755453e-03\n",
      "   1.51229990e-02 -5.00262315e-02 -2.35881465e-03 -1.31098348e-03\n",
      "  -1.23603053e-02 -2.35881465e-03 -2.13496599e-02  2.92425602e-03\n",
      "   5.01755453e-03 -1.31098348e-03  2.92425602e-03 -1.33580196e-02]\n",
      " [ 1.26501876e-01 -5.00262315e-02  4.08873590e-02 -1.65978549e-02\n",
      "  -5.00262315e-02  1.65484626e-01  7.80285759e-03  4.33667706e-03\n",
      "   4.08873590e-02  7.80285759e-03  7.06237583e-02 -9.67331334e-03\n",
      "  -1.65978549e-02  4.33667706e-03 -9.67331334e-03  4.41877554e-02]\n",
      " [ 5.96476031e-03 -2.35881465e-03  1.92790260e-03 -7.82614686e-04\n",
      "  -2.35881465e-03  7.80285759e-03  3.67916877e-04  2.04481071e-04\n",
      "   1.92790260e-03  3.67916877e-04  3.33002009e-03 -4.56111776e-04\n",
      "  -7.82614686e-04  2.04481071e-04 -4.56111776e-04  2.08352142e-03]\n",
      " [ 3.31509821e-03 -1.31098348e-03  1.07149091e-03 -4.34962078e-04\n",
      "  -1.31098348e-03  4.33667706e-03  2.04481071e-04  1.13646617e-04\n",
      "   1.07149091e-03  2.04481071e-04  1.85076064e-03 -2.53498087e-04\n",
      "  -4.34962078e-04  1.13646617e-04 -2.53498087e-04  1.15798083e-03]\n",
      " [ 3.12556385e-02 -1.23603053e-02  1.01023048e-02 -4.10093960e-03\n",
      "  -1.23603053e-02  4.08873590e-02  1.92790260e-03  1.07149091e-03\n",
      "   1.01023048e-02  1.92790260e-03  1.74494697e-02 -2.39004823e-03\n",
      "  -4.10093960e-03  1.07149091e-03 -2.39004823e-03  1.09177551e-02]\n",
      " [ 5.96476031e-03 -2.35881465e-03  1.92790260e-03 -7.82614686e-04\n",
      "  -2.35881465e-03  7.80285759e-03  3.67916877e-04  2.04481071e-04\n",
      "   1.92790260e-03  3.67916877e-04  3.33002009e-03 -4.56111776e-04\n",
      "  -7.82614686e-04  2.04481071e-04 -4.56111776e-04  2.08352142e-03]\n",
      " [ 5.39871176e-02 -2.13496599e-02  1.74494697e-02 -7.08345498e-03\n",
      "  -2.13496599e-02  7.06237583e-02  3.33002009e-03  1.85076064e-03\n",
      "   1.74494697e-02  3.33002009e-03  3.01400521e-02 -4.12827319e-03\n",
      "  -7.08345498e-03  1.85076064e-03 -4.12827319e-03  1.88579775e-02]\n",
      " [-7.39459805e-03  2.92425602e-03 -2.39004823e-03  9.70218539e-04\n",
      "   2.92425602e-03 -9.67331334e-03 -4.56111776e-04 -2.53498087e-04\n",
      "  -2.39004823e-03 -4.56111776e-04 -4.12827319e-03  5.65448245e-04\n",
      "   9.70218539e-04 -2.53498087e-04  5.65448245e-04 -2.58297109e-03]\n",
      " [-1.26879448e-02  5.01755453e-03 -4.10093960e-03  1.66473947e-03\n",
      "   5.01755453e-03 -1.65978549e-02 -7.82614686e-04 -4.34962078e-04\n",
      "  -4.10093960e-03 -7.82614686e-04 -7.08345498e-03  9.70218539e-04\n",
      "   1.66473947e-03 -4.34962078e-04  9.70218539e-04 -4.43196430e-03]\n",
      " [ 3.31509821e-03 -1.31098348e-03  1.07149091e-03 -4.34962078e-04\n",
      "  -1.31098348e-03  4.33667706e-03  2.04481071e-04  1.13646617e-04\n",
      "   1.07149091e-03  2.04481071e-04  1.85076064e-03 -2.53498087e-04\n",
      "  -4.34962078e-04  1.13646617e-04 -2.53498087e-04  1.15798083e-03]\n",
      " [-7.39459805e-03  2.92425602e-03 -2.39004823e-03  9.70218539e-04\n",
      "   2.92425602e-03 -9.67331334e-03 -4.56111776e-04 -2.53498087e-04\n",
      "  -2.39004823e-03 -4.56111776e-04 -4.12827319e-03  5.65448245e-04\n",
      "   9.70218539e-04 -2.53498087e-04  5.65448245e-04 -2.58297109e-03]\n",
      " [ 3.37785698e-02 -1.33580196e-02  1.09177551e-02 -4.43196430e-03\n",
      "  -1.33580196e-02  4.41877554e-02  2.08352142e-03  1.15798083e-03\n",
      "   1.09177551e-02  2.08352142e-03  1.88579775e-02 -2.58297109e-03\n",
      "  -4.43196430e-03  1.15798083e-03 -2.58297109e-03  1.17990280e-02]]\n"
     ],
     "output_type": "stream"
    },
    {
     "traceback": [
      "\u001b[0;31m---------------------------------------------------------------------------\u001b[0m",
      "\u001b[0;31mTypeError\u001b[0m                                 Traceback (most recent call last)",
      "\u001b[0;32m<ipython-input-176-3cec1b9ffc94>\u001b[0m in \u001b[0;36m<module>\u001b[0;34m\u001b[0m\n\u001b[1;32m      9\u001b[0m \u001b[0mS\u001b[0m \u001b[0;34m=\u001b[0m \u001b[0mrho\u001b[0m\u001b[0;34m.\u001b[0m\u001b[0mdual_chan\u001b[0m\u001b[0;34m(\u001b[0m\u001b[0;34m)\u001b[0m\u001b[0;34m\u001b[0m\u001b[0;34m\u001b[0m\u001b[0m\n\u001b[1;32m     10\u001b[0m \u001b[0mprint\u001b[0m\u001b[0;34m(\u001b[0m\u001b[0mS\u001b[0m\u001b[0;34m)\u001b[0m\u001b[0;34m\u001b[0m\u001b[0;34m\u001b[0m\u001b[0m\n\u001b[0;32m---> 11\u001b[0;31m \u001b[0mprint\u001b[0m\u001b[0;34m(\u001b[0m\u001b[0mapply_super\u001b[0m\u001b[0;34m(\u001b[0m\u001b[0mrho_a\u001b[0m\u001b[0;34m,\u001b[0m \u001b[0mS\u001b[0m\u001b[0;34m)\u001b[0m\u001b[0;34m)\u001b[0m\u001b[0;34m\u001b[0m\u001b[0;34m\u001b[0m\u001b[0m\n\u001b[0m\u001b[1;32m     12\u001b[0m \u001b[0;34m\u001b[0m\u001b[0m\n\u001b[1;32m     13\u001b[0m \u001b[0;34m\u001b[0m\u001b[0m\n",
      "\u001b[0;32m<ipython-input-175-8ad5bb9248e3>\u001b[0m in \u001b[0;36mapply_super\u001b[0;34m(op, super_op)\u001b[0m\n\u001b[1;32m      3\u001b[0m \u001b[0;34m\u001b[0m\u001b[0m\n\u001b[1;32m      4\u001b[0m \u001b[0;32mdef\u001b[0m \u001b[0mapply_super\u001b[0m\u001b[0;34m(\u001b[0m\u001b[0mop\u001b[0m\u001b[0;34m,\u001b[0m \u001b[0msuper_op\u001b[0m\u001b[0;34m)\u001b[0m\u001b[0;34m:\u001b[0m\u001b[0;34m\u001b[0m\u001b[0;34m\u001b[0m\u001b[0m\n\u001b[0;32m----> 5\u001b[0;31m     \u001b[0;32mreturn\u001b[0m \u001b[0mqu\u001b[0m\u001b[0;34m.\u001b[0m\u001b[0mvector_to_operator\u001b[0m\u001b[0;34m(\u001b[0m\u001b[0msuper_op\u001b[0m \u001b[0;34m*\u001b[0m \u001b[0mqu\u001b[0m\u001b[0;34m.\u001b[0m\u001b[0moperator_to_vector\u001b[0m\u001b[0;34m(\u001b[0m\u001b[0mop\u001b[0m\u001b[0;34m)\u001b[0m\u001b[0;34m)\u001b[0m\u001b[0;34m\u001b[0m\u001b[0;34m\u001b[0m\u001b[0m\n\u001b[0m\u001b[1;32m      6\u001b[0m \u001b[0;34m\u001b[0m\u001b[0m\n\u001b[1;32m      7\u001b[0m \u001b[0;31m#construct S\u001b[0m\u001b[0;34m\u001b[0m\u001b[0;34m\u001b[0m\u001b[0;34m\u001b[0m\u001b[0m\n",
      "\u001b[0;32m~/cloud/eth/2020_FS/spq/pycharm/venv/lib/python3.7/site-packages/qutip/qobj.py\u001b[0m in \u001b[0;36m__mul__\u001b[0;34m(self, other)\u001b[0m\n\u001b[1;32m    553\u001b[0m \u001b[0;34m\u001b[0m\u001b[0m\n\u001b[1;32m    554\u001b[0m             \u001b[0;32melse\u001b[0m\u001b[0;34m:\u001b[0m\u001b[0;34m\u001b[0m\u001b[0;34m\u001b[0m\u001b[0m\n\u001b[0;32m--> 555\u001b[0;31m                 \u001b[0;32mraise\u001b[0m \u001b[0mTypeError\u001b[0m\u001b[0;34m(\u001b[0m\u001b[0;34m\"Incompatible Qobj shapes\"\u001b[0m\u001b[0;34m)\u001b[0m\u001b[0;34m\u001b[0m\u001b[0;34m\u001b[0m\u001b[0m\n\u001b[0m\u001b[1;32m    556\u001b[0m \u001b[0;34m\u001b[0m\u001b[0m\n\u001b[1;32m    557\u001b[0m         \u001b[0;32melif\u001b[0m \u001b[0misinstance\u001b[0m\u001b[0;34m(\u001b[0m\u001b[0mother\u001b[0m\u001b[0;34m,\u001b[0m \u001b[0mnp\u001b[0m\u001b[0;34m.\u001b[0m\u001b[0mndarray\u001b[0m\u001b[0;34m)\u001b[0m\u001b[0;34m:\u001b[0m\u001b[0;34m\u001b[0m\u001b[0;34m\u001b[0m\u001b[0m\n",
      "\u001b[0;31mTypeError\u001b[0m: Incompatible Qobj shapes"
     ],
     "ename": "TypeError",
     "evalue": "Incompatible Qobj shapes",
     "output_type": "error"
    }
   ],
   "source": [
    "rho = qu.Qobj(rho, dims=[[2,2], [2,2]])\n",
    "print(rho)\n",
    "rho_a = 1/2 * qu.identity(2)\n",
    "\n",
    "print(apply_choi(rho_a, rho, 2))\n",
    "\n",
    "\n",
    "\n",
    "S = rho.dual_chan()\n",
    "print(S)\n",
    "print(apply_super(rho_a, S))\n",
    "\n"
   ],
   "metadata": {
    "collapsed": false,
    "pycharm": {
     "name": "#%%\n",
     "is_executing": false
    }
   }
  },
  {
   "cell_type": "code",
   "execution_count": 149,
   "outputs": [
    {
     "name": "stdout",
     "text": [
      "Quantum object: dims = [[2], [2]], shape = (2, 2), type = oper, isherm = True\n",
      "Qobj data =\n",
      "[[0.41097152 0.        ]\n",
      " [0.         0.58902848]]\n",
      "Quantum object: dims = [[2], [2]], shape = (2, 2), type = oper, isherm = False\n",
      "Qobj data =\n",
      "[[0.+0.58902848j 0.+0.j        ]\n",
      " [0.+0.j         0.-0.41097152j]]\n",
      "Quantum object: dims = [[2], [2]], shape = (2, 2), type = oper, isherm = False\n",
      "Qobj data =\n",
      "[[0.+0.58902848j 0.+0.j        ]\n",
      " [0.+0.j         0.-0.41097152j]]\n"
     ],
     "output_type": "stream"
    }
   ],
   "source": [
    "def apply_super(op, super_op):\n",
    "    return qu.vector_to_operator(super_op * qu.operator_to_vector(op))\n",
    "\n",
    "X = qu.sigmax()\n",
    "Y = qu.sigmay()\n",
    "S = qu.sprepost(X, Y)\n",
    "\n",
    "rho = qu.rand_dm(2)\n",
    "print(rho)\n",
    "print(X*rho*Y)\n",
    "\n",
    "print(apply_super(rho, S))"
   ],
   "metadata": {
    "collapsed": false,
    "pycharm": {
     "name": "#%%\n",
     "is_executing": false
    }
   }
  },
  {
   "cell_type": "code",
   "execution_count": 187,
   "outputs": [
    {
     "name": "stdout",
     "text": [
      "1.0000000000000002\n",
      "Quantum object: dims = [[2], [2]], shape = (2, 2), type = oper, isherm = True\n",
      "Qobj data =\n",
      "[[0.9 0. ]\n",
      " [0.  0.1]]\n",
      "Quantum object: dims = [[2], [2]], shape = (2, 2), type = oper, isherm = False\n",
      "Qobj data =\n",
      "[[1.29198197 0.20010733]\n",
      " [0.02223415 0.05644645]]\n"
     ],
     "output_type": "stream"
    }
   ],
   "source": [
    "def apply_choi(rho_in, rho_choi, dim_a):\n",
    "    return dim_a * qu.ptrace(qu.tensor(rho_in.trans(), qu.identity(2)) * rho_choi, 0)\n",
    "\n",
    "S = qu.Qobj(rho, dims=[[2,2], [2,2]])\n",
    "\n",
    "print(S.tr())\n",
    "\n",
    "rho_a = [[0.9,0],[0,0.1]]\n",
    "rho_a = qu.Qobj(rho_a)\n",
    "print(rho_a)\n",
    "print(apply_choi(rho_a, S, 2))"
   ],
   "metadata": {
    "collapsed": false,
    "pycharm": {
     "name": "#%%\n",
     "is_executing": false
    }
   }
  },
  {
   "cell_type": "code",
   "execution_count": 114,
   "outputs": [
    {
     "name": "stdout",
     "text": [
      "Quantum object: dims = [[4], [4]], shape = (4, 4), type = oper, isherm = True\n",
      "Qobj data =\n",
      "[[ 0.55890164 -0.30898907  0.1273786  -0.08060001]\n",
      " [-0.30898907  0.75055817 -0.03527953  0.02232346]\n",
      " [ 0.1273786  -0.03527953  0.32183589  0.04945908]\n",
      " [-0.08060001  0.02232346  0.04945908  0.3687043 ]]\n",
      "2.0\n",
      "Quantum object: dims = [[[2], [2]], [[2], [2]]], shape = (4, 4), type = super, isherm = True, superrep = choi\n",
      "Qobj data =\n",
      "[[ 1.11780327 -0.61797814  0.25475719 -0.16120003]\n",
      " [-0.61797814  1.50111634 -0.07055906  0.04464691]\n",
      " [ 0.25475719 -0.07055906  0.64367179  0.09891816]\n",
      " [-0.16120003  0.04464691  0.09891816  0.7374086 ]]\n",
      "Quantum object: dims = [[[2], [2]], [[2], [2]]], shape = (4, 4), type = super, isherm = False\n",
      "Qobj data =\n",
      "[[ 1.11780327  0.25475719  0.25475719  0.64367179]\n",
      " [-0.61797814 -0.16120003 -0.07055906  0.09891816]\n",
      " [-0.61797814 -0.07055906 -0.16120003  0.09891816]\n",
      " [ 1.50111634  0.04464691  0.04464691  0.7374086 ]]\n"
     ],
     "output_type": "stream"
    },
    {
     "data": {
      "text/plain": "(True, False, False)"
     },
     "metadata": {},
     "output_type": "execute_result",
     "execution_count": 114
    }
   ],
   "source": [
    "\n",
    "rho = 2*rho\n",
    "print(rho)\n",
    "print(rho.tr())\n",
    "\n",
    "\n",
    "S = qu.Qobj(2*rho, dims=[[[2],[2]], [[2],[2]]], type='super', superrep='choi')\n",
    "print(S)\n",
    "\n",
    "S = qu.choi_to_super(S)\n",
    "print(S)\n",
    "\n",
    "S.iscp, S.istp, S.iscptp\n",
    "\n"
   ],
   "metadata": {
    "collapsed": false,
    "pycharm": {
     "name": "#%%\n",
     "is_executing": false
    }
   }
  },
  {
   "cell_type": "code",
   "execution_count": 115,
   "outputs": [
    {
     "name": "stdout",
     "text": [
      "Quantum object: dims = [[[2], [2]], [1]], shape = (4, 1), type = operator-ket\n",
      "Qobj data =\n",
      "[[1.]\n",
      " [0.]\n",
      " [0.]\n",
      " [0.]]\n",
      "Quantum object: dims = [[[2], [2]], [1]], shape = (4, 1), type = operator-ket\n",
      "Qobj data =\n",
      "[[ 1.11780327]\n",
      " [-0.61797814]\n",
      " [-0.61797814]\n",
      " [ 1.50111634]]\n",
      "Quantum object: dims = [[2], [2]], shape = (2, 2), type = oper, isherm = True\n",
      "Qobj data =\n",
      "[[ 1.11780327 -0.61797814]\n",
      " [-0.61797814  1.50111634]]\n"
     ],
     "output_type": "stream"
    }
   ],
   "source": [
    "psi = qu.basis(2, 0)\n",
    "rho = qu.ket2dm(psi)\n",
    "\n",
    "vec_rho = qu.operator_to_vector(rho)\n",
    "\n",
    "print(vec_rho)\n",
    "\n",
    "vec_rho = S * vec_rho\n",
    "\n",
    "print(vec_rho)\n",
    "\n",
    "rho = qu.vector_to_operator(vec_rho)\n",
    "print(rho)"
   ],
   "metadata": {
    "collapsed": false,
    "pycharm": {
     "name": "#%%\n",
     "is_executing": false
    }
   }
  },
  {
   "cell_type": "code",
   "execution_count": 116,
   "outputs": [
    {
     "name": "stdout",
     "text": [
      "Quantum object: dims = [[[2], [2]], [[2], [2]]], shape = (4, 4), type = super, isherm = True, superrep = choi\n",
      "Qobj data =\n",
      "[[0.25 0.   0.   0.  ]\n",
      " [0.   0.25 0.   0.  ]\n",
      " [0.   0.   0.25 0.  ]\n",
      " [0.   0.   0.   0.25]]\n"
     ],
     "output_type": "stream"
    },
    {
     "data": {
      "text/plain": "False"
     },
     "metadata": {},
     "output_type": "execute_result",
     "execution_count": 116
    }
   ],
   "source": [
    "rho = 1/4* np.identity(4)\n",
    "rho = qu.Qobj(rho, dims=[[[2],[2]], [[2],[2]]], type='super', superrep='choi')\n",
    "print(rho)\n",
    "\n",
    "rho.iscptp\n",
    "\n",
    "# S = qu.choi_to_super(rho)\n",
    "# \n",
    "# S.iscp, S.istp, S.iscptp\n"
   ],
   "metadata": {
    "collapsed": false,
    "pycharm": {
     "name": "#%%\n",
     "is_executing": false
    }
   }
  },
  {
   "cell_type": "code",
   "execution_count": 104,
   "outputs": [
    {
     "name": "stdout",
     "text": [
      "Quantum object: dims = [[[2], [2]], [[2], [2]]], shape = (4, 4), type = super, isherm = True, superrep = choi\n",
      "Qobj data =\n",
      "[[0. 0. 0. 0.]\n",
      " [0. 1. 1. 0.]\n",
      " [0. 1. 1. 0.]\n",
      " [0. 0. 0. 0.]]\n",
      "Quantum object: dims = [[[2], [2]], [[2], [2]]], shape = (4, 4), type = super, isherm = True\n",
      "Qobj data =\n",
      "[[0. 0. 0. 1.]\n",
      " [0. 0. 1. 0.]\n",
      " [0. 1. 0. 0.]\n",
      " [1. 0. 0. 0.]]\n"
     ],
     "output_type": "stream"
    }
   ],
   "source": [
    "X = qu.sigmax()\n",
    "S = qu.sprepost(X, X)\n",
    "\n",
    "rho = qu.super_to_choi(S)\n",
    "print(rho)\n",
    "rho.tr()\n",
    "\n",
    "S2 = qu.choi_to_super(rho)\n",
    "print(S2)"
   ],
   "metadata": {
    "collapsed": false,
    "pycharm": {
     "name": "#%%\n",
     "is_executing": false
    }
   }
  },
  {
   "cell_type": "code",
   "execution_count": null,
   "outputs": [],
   "source": [
    "\n"
   ],
   "metadata": {
    "collapsed": false,
    "pycharm": {
     "name": "#%%\n"
    }
   }
  }
 ],
 "metadata": {
  "kernelspec": {
   "display_name": "Python 3",
   "language": "python",
   "name": "python3"
  },
  "language_info": {
   "codemirror_mode": {
    "name": "ipython",
    "version": 2
   },
   "file_extension": ".py",
   "mimetype": "text/x-python",
   "name": "python",
   "nbconvert_exporter": "python",
   "pygments_lexer": "ipython2",
   "version": "2.7.6"
  },
  "pycharm": {
   "stem_cell": {
    "cell_type": "raw",
    "source": [],
    "metadata": {
     "collapsed": false
    }
   }
  }
 },
 "nbformat": 4,
 "nbformat_minor": 0
}